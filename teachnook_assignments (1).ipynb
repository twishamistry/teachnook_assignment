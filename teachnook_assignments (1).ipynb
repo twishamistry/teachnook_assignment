{
  "nbformat": 4,
  "nbformat_minor": 0,
  "metadata": {
    "colab": {
      "provenance": []
    },
    "kernelspec": {
      "name": "python3",
      "display_name": "Python 3"
    },
    "language_info": {
      "name": "python"
    }
  },
  "cells": [
    {
      "cell_type": "markdown",
      "source": [
        "# **Assignment-1**"
      ],
      "metadata": {
        "id": "YJZyknoGq4yl"
      }
    },
    {
      "cell_type": "code",
      "source": [
        "# assignment 1\n",
        "# create examples of list ,touple and dictionary\n",
        "# --> list [] , mutable-- changable\n",
        "grocery =[\"bread\",1,\"eggs\",12,\"peanut butter\",1,\"chicken\",2]\n",
        "print(grocery)"
      ],
      "metadata": {
        "colab": {
          "base_uri": "https://localhost:8080/"
        },
        "id": "3SO3VqPcq5-X",
        "outputId": "c0ee4984-ffd0-4ecb-9575-7dab2bb19585"
      },
      "execution_count": 2,
      "outputs": [
        {
          "output_type": "stream",
          "name": "stdout",
          "text": [
            "['bread', 1, 'eggs', 12, 'peanut butter', 1, 'chicken', 2]\n"
          ]
        }
      ]
    },
    {
      "cell_type": "code",
      "source": [
        "#insert element\n",
        "grocery.insert(2,\"paneer\")\n",
        "print(grocery)"
      ],
      "metadata": {
        "colab": {
          "base_uri": "https://localhost:8080/"
        },
        "id": "VDqJDTCkqS4g",
        "outputId": "3b96a827-30c3-41af-c709-8177c305b0ab"
      },
      "execution_count": 3,
      "outputs": [
        {
          "output_type": "stream",
          "name": "stdout",
          "text": [
            "['bread', 1, 'paneer', 'eggs', 12, 'peanut butter', 1, 'chicken', 2]\n"
          ]
        }
      ]
    },
    {
      "cell_type": "code",
      "source": [
        "#add or extend element\n",
        "grocery.append(\"maggie masala\")\n",
        "print(grocery)"
      ],
      "metadata": {
        "colab": {
          "base_uri": "https://localhost:8080/"
        },
        "id": "nDDYacfeqY7J",
        "outputId": "5c291b6e-f95a-4da4-9f79-4e6e2fb7c55e"
      },
      "execution_count": 4,
      "outputs": [
        {
          "output_type": "stream",
          "name": "stdout",
          "text": [
            "['bread', 1, 'paneer', 'eggs', 12, 'peanut butter', 1, 'chicken', 2, 'maggie masala']\n"
          ]
        }
      ]
    },
    {
      "cell_type": "code",
      "source": [
        "#delete element\n",
        "del grocery[1]\n",
        "print(grocery)"
      ],
      "metadata": {
        "colab": {
          "base_uri": "https://localhost:8080/"
        },
        "id": "U1d2qmr6qhov",
        "outputId": "56cf1fe1-57a7-4b09-c5c9-6a459dd28823"
      },
      "execution_count": 5,
      "outputs": [
        {
          "output_type": "stream",
          "name": "stdout",
          "text": [
            "['bread', 'paneer', 'eggs', 12, 'peanut butter', 1, 'chicken', 2, 'maggie masala']\n"
          ]
        }
      ]
    },
    {
      "cell_type": "code",
      "source": [
        "#remove element\n",
        "grocery.remove(\"eggs\")\n",
        "print(grocery)"
      ],
      "metadata": {
        "colab": {
          "base_uri": "https://localhost:8080/"
        },
        "id": "yNrgIROUqkah",
        "outputId": "25394ae9-cb0f-4bad-ad97-ddd38599da8d"
      },
      "execution_count": 6,
      "outputs": [
        {
          "output_type": "stream",
          "name": "stdout",
          "text": [
            "['bread', 'paneer', 12, 'peanut butter', 1, 'chicken', 2, 'maggie masala']\n"
          ]
        }
      ]
    },
    {
      "cell_type": "code",
      "source": [
        "#-->tuple (), immutable\n",
        "marks = (\"maths 12/15\",\"english 10/15\",\"hindi 13/15\")\n",
        "print(marks)"
      ],
      "metadata": {
        "colab": {
          "base_uri": "https://localhost:8080/"
        },
        "id": "RY-tC2tqqmg5",
        "outputId": "df826dcf-979e-4620-b8d3-fa5371a64c6e"
      },
      "execution_count": 7,
      "outputs": [
        {
          "output_type": "stream",
          "name": "stdout",
          "text": [
            "('maths 12/15', 'english 10/15', 'hindi 13/15')\n"
          ]
        }
      ]
    },
    {
      "cell_type": "code",
      "source": [
        "#-->dictionary {},mutable\n",
        "insta = {\n",
        "    \"instagram id\":\"_sooraj_sj_007\",\n",
        "    \"password\":\"suraj1234\",\n",
        "    \"followers\":\"1k\",\n",
        "    \"posts\":\"60\"}\n",
        "print(insta)"
      ],
      "metadata": {
        "colab": {
          "base_uri": "https://localhost:8080/"
        },
        "id": "3Vxl_ah-qpSR",
        "outputId": "9599e9f4-06c6-4947-aa47-62487d31d464"
      },
      "execution_count": 8,
      "outputs": [
        {
          "output_type": "stream",
          "name": "stdout",
          "text": [
            "{'instagram id': '_sooraj_sj_007', 'password': 'suraj1234', 'followers': '1k', 'posts': '60'}\n"
          ]
        }
      ]
    },
    {
      "cell_type": "code",
      "source": [
        "# delete element\n",
        "del insta[\"posts\"]\n",
        "print(insta)"
      ],
      "metadata": {
        "colab": {
          "base_uri": "https://localhost:8080/"
        },
        "id": "g5M03amoqr1t",
        "outputId": "07d2eacd-38bd-4068-d038-b7b8ff360774"
      },
      "execution_count": 9,
      "outputs": [
        {
          "output_type": "stream",
          "name": "stdout",
          "text": [
            "{'instagram id': '_sooraj_sj_007', 'password': 'suraj1234', 'followers': '1k'}\n"
          ]
        }
      ]
    },
    {
      "cell_type": "code",
      "source": [
        "#add or update element\n",
        "insta.update({\"likes\":\"10800\"})\n",
        "print(insta)\n",
        "insta.update({\"followers\":\"1.1k\"})\n",
        "print(insta)\n",
        "insta[\"posts\"] = \"35\"\n",
        "print(insta)"
      ],
      "metadata": {
        "colab": {
          "base_uri": "https://localhost:8080/"
        },
        "id": "KfR-_TFAqt96",
        "outputId": "f5cdeffe-55b5-431c-c707-bf98d11aa173"
      },
      "execution_count": 10,
      "outputs": [
        {
          "output_type": "stream",
          "name": "stdout",
          "text": [
            "{'instagram id': '_sooraj_sj_007', 'password': 'suraj1234', 'followers': '1k', 'likes': '10800'}\n",
            "{'instagram id': '_sooraj_sj_007', 'password': 'suraj1234', 'followers': '1.1k', 'likes': '10800'}\n",
            "{'instagram id': '_sooraj_sj_007', 'password': 'suraj1234', 'followers': '1.1k', 'likes': '10800', 'posts': '35'}\n"
          ]
        }
      ]
    },
    {
      "cell_type": "code",
      "source": [
        "#sclicing and step indexing\n",
        "brand = \"blackpipers\"\n",
        "print(brand[:])\n",
        "print(brand[:5])\n",
        "print(brand[-6:-1])\n",
        "print(brand[::])\n",
        "print(brand[::2])\n",
        "print(brand[::-1])\n",
        "print(brand[-8::-1])"
      ],
      "metadata": {
        "colab": {
          "base_uri": "https://localhost:8080/"
        },
        "id": "2I2KV_6Dqv24",
        "outputId": "76dac1e7-c2c5-4880-ca9d-5bdbe85c5f92"
      },
      "execution_count": 11,
      "outputs": [
        {
          "output_type": "stream",
          "name": "stdout",
          "text": [
            "blackpipers\n",
            "black\n",
            "piper\n",
            "blackpipers\n",
            "bakies\n",
            "srepipkcalb\n",
            "calb\n"
          ]
        }
      ]
    },
    {
      "cell_type": "markdown",
      "source": [
        "# **Assignment-2** "
      ],
      "metadata": {
        "id": "xsHpZzM3rL7P"
      }
    },
    {
      "cell_type": "code",
      "source": [
        "# Set is an unordered collection of unique elements\n",
        "Basket={\"orange\",\"apple\",\"mango\",\"apple\"}"
      ],
      "metadata": {
        "id": "f0NcxcearQru"
      },
      "execution_count": 12,
      "outputs": []
    },
    {
      "cell_type": "code",
      "source": [
        "print(type(Basket))"
      ],
      "metadata": {
        "colab": {
          "base_uri": "https://localhost:8080/"
        },
        "id": "PSa4tzwItQnf",
        "outputId": "8370cf3f-0517-43ef-fc09-938186b63490"
      },
      "execution_count": 13,
      "outputs": [
        {
          "output_type": "stream",
          "name": "stdout",
          "text": [
            "<class 'set'>\n"
          ]
        }
      ]
    },
    {
      "cell_type": "code",
      "source": [
        "print(Basket)"
      ],
      "metadata": {
        "colab": {
          "base_uri": "https://localhost:8080/"
        },
        "id": "AOqHzvwxtTZR",
        "outputId": "b371f516-4675-49df-89e6-8b7043ae91c2"
      },
      "execution_count": 14,
      "outputs": [
        {
          "output_type": "stream",
          "name": "stdout",
          "text": [
            "{'apple', 'orange', 'mango'}\n"
          ]
        }
      ]
    },
    {
      "cell_type": "code",
      "source": [
        "#another method \n",
        "a=set()\n",
        "a.add(1)\n",
        "a.add(2)\n",
        "print(a)"
      ],
      "metadata": {
        "colab": {
          "base_uri": "https://localhost:8080/"
        },
        "id": "TqZPfdzUtWJV",
        "outputId": "6794f597-a6c9-4289-f789-fcb009951ca9"
      },
      "execution_count": 16,
      "outputs": [
        {
          "output_type": "stream",
          "name": "stdout",
          "text": [
            "{1, 2}\n"
          ]
        }
      ]
    },
    {
      "cell_type": "code",
      "source": [
        "# Frozen set : Doen't accept the change so immutable\n",
        "num=[1,2,3,3,4,5,2,1]\n",
        "unique_number=set(num)\n",
        "unique_number\n",
        "\n",
        "unique_number.add(5)\n",
        "unique_number\n",
        "\n",
        "fs=frozenset(num)\n",
        "fs\n",
        "fs.add(5)"
      ],
      "metadata": {
        "colab": {
          "base_uri": "https://localhost:8080/",
          "height": 200
        },
        "id": "5SDtAwmLtdI5",
        "outputId": "d9898ba2-d522-4c9c-cc2a-17601468b45c"
      },
      "execution_count": 19,
      "outputs": [
        {
          "output_type": "error",
          "ename": "AttributeError",
          "evalue": "ignored",
          "traceback": [
            "\u001b[0;31m---------------------------------------------------------------------------\u001b[0m",
            "\u001b[0;31mAttributeError\u001b[0m                            Traceback (most recent call last)",
            "\u001b[0;32m<ipython-input-19-1a2cdb93bdd5>\u001b[0m in \u001b[0;36m<module>\u001b[0;34m\u001b[0m\n\u001b[1;32m      9\u001b[0m \u001b[0mfs\u001b[0m\u001b[0;34m=\u001b[0m\u001b[0mfrozenset\u001b[0m\u001b[0;34m(\u001b[0m\u001b[0mnum\u001b[0m\u001b[0;34m)\u001b[0m\u001b[0;34m\u001b[0m\u001b[0;34m\u001b[0m\u001b[0m\n\u001b[1;32m     10\u001b[0m \u001b[0mfs\u001b[0m\u001b[0;34m\u001b[0m\u001b[0;34m\u001b[0m\u001b[0m\n\u001b[0;32m---> 11\u001b[0;31m \u001b[0mfs\u001b[0m\u001b[0;34m.\u001b[0m\u001b[0madd\u001b[0m\u001b[0;34m(\u001b[0m\u001b[0;36m5\u001b[0m\u001b[0;34m)\u001b[0m\u001b[0;34m\u001b[0m\u001b[0;34m\u001b[0m\u001b[0m\n\u001b[0m",
            "\u001b[0;31mAttributeError\u001b[0m: 'frozenset' object has no attribute 'add'"
          ]
        }
      ]
    },
    {
      "cell_type": "code",
      "source": [],
      "metadata": {
        "id": "Ng2qSkunt6Mu"
      },
      "execution_count": null,
      "outputs": []
    }
  ]
}